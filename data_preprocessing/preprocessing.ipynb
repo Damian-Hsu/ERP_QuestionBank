{
 "cells": [
  {
   "cell_type": "code",
   "execution_count": null,
   "metadata": {},
   "outputs": [],
   "source": [
    "import pandas as pd\n",
    "import json\n",
    "\n",
    "# 讀取 Excel 或 CSV\n",
    "file_path = 'ERPquestion.xlsx'  # 替換為你的檔案名稱\n",
    "df = pd.read_excel(file_path, header=None)\n",
    "\n",
    "# 初始化字典\n",
    "questions_dict = {}\n",
    "\n",
    "for index, row in df.iterrows():\n",
    "    # 提取問題編號與答案\n",
    "    question_number = row[1].split(\".\")[0]\n",
    "    question_text = row[1].split(\".\", 1)[1].strip()\n",
    "    correct_ans = row[0].strip().strip(\"()\")  # 去除括號\n",
    "\n",
    "    # 提取選項並移除多餘括號和標號\n",
    "    options = {\n",
    "        \"A\": row[2].strip()[3:],  # 去除 \"(A) \"\n",
    "        \"B\": row[3].strip()[3:],  # 去除 \"(B) \"\n",
    "        \"C\": row[4].strip()[3:],  # 去除 \"(C) \"\n",
    "        \"D\": row[5].strip()[3:].rstrip(\"。\")  # 去除 \"(D) \" 和句號\n",
    "    }\n",
    "    \n",
    "    # 構建 JSON 格式\n",
    "    questions_dict[question_number] = {\n",
    "        \"question\": question_text,\n",
    "        \"ans\": correct_ans,\n",
    "        **options\n",
    "    }\n",
    "\n",
    "# 轉換為 JSON 並儲存\n",
    "json_file_path = 'ERPquestion.json'\n",
    "with open(json_file_path, 'w', encoding='utf-8') as json_file:\n",
    "    json.dump(questions_dict, json_file, ensure_ascii=False, indent=4)\n",
    "\n",
    "print(f\"JSON 檔案已儲存為 {json_file_path}\")\n"
   ]
  }
 ],
 "metadata": {
  "kernelspec": {
   "display_name": "Python 3",
   "language": "python",
   "name": "python3"
  },
  "language_info": {
   "name": "python",
   "version": "3.12.7"
  }
 },
 "nbformat": 4,
 "nbformat_minor": 2
}
